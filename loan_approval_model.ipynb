{
 "cells": [
  {
   "cell_type": "markdown",
   "metadata": {},
   "source": [
    "### Loan Approval Prediction"
   ]
  },
  {
   "cell_type": "markdown",
   "metadata": {},
   "source": [
    "#### Import Necessary Library"
   ]
  },
  {
   "cell_type": "code",
   "execution_count": 1,
   "metadata": {},
   "outputs": [],
   "source": [
    "import pandas as pd\n",
    "import numpy as np\n",
    "import matplotlib.pyplot as plt\n",
    "import seaborn as sns \n",
    "import sklearn"
   ]
  },
  {
   "cell_type": "markdown",
   "metadata": {},
   "source": [
    "#### Import the Dataset"
   ]
  },
  {
   "cell_type": "code",
   "execution_count": 4,
   "metadata": {},
   "outputs": [
    {
     "name": "stdout",
     "output_type": "stream",
     "text": [
      "   loan_id   no_of_dependents      education  self_employed   income_annum  \\\n",
      "0        1                  2       Graduate             No        9600000   \n",
      "1        2                  0   Not Graduate            Yes        4100000   \n",
      "2        3                  3       Graduate             No        9100000   \n",
      "\n",
      "    loan_amount   loan_term   cibil_score   residential_assets_value  \\\n",
      "0      29900000          12           778                    2400000   \n",
      "1      12200000           8           417                    2700000   \n",
      "2      29700000          20           506                    7100000   \n",
      "\n",
      "    commercial_assets_value   luxury_assets_value   bank_asset_value  \\\n",
      "0                  17600000              22700000            8000000   \n",
      "1                   2200000               8800000            3300000   \n",
      "2                   4500000              33300000           12800000   \n",
      "\n",
      "   loan_status  \n",
      "0     Approved  \n",
      "1     Rejected  \n",
      "2     Rejected  \n",
      "(4269, 13)\n"
     ]
    }
   ],
   "source": [
    "df=pd.read_csv(\"D:/repository/Loan_Approval_Prediction/loan_approval_dataset.csv\")\n",
    "print(df.head(3))\n",
    "print(df.shape)"
   ]
  },
  {
   "cell_type": "markdown",
   "metadata": {},
   "source": [
    "### EDA"
   ]
  },
  {
   "cell_type": "markdown",
   "metadata": {},
   "source": [
    "#### Check for null value"
   ]
  },
  {
   "cell_type": "code",
   "execution_count": 5,
   "metadata": {},
   "outputs": [
    {
     "name": "stdout",
     "output_type": "stream",
     "text": [
      "loan_id                      0\n",
      " no_of_dependents            0\n",
      " education                   0\n",
      " self_employed               0\n",
      " income_annum                0\n",
      " loan_amount                 0\n",
      " loan_term                   0\n",
      " cibil_score                 0\n",
      " residential_assets_value    0\n",
      " commercial_assets_value     0\n",
      " luxury_assets_value         0\n",
      " bank_asset_value            0\n",
      " loan_status                 0\n",
      "dtype: int64\n"
     ]
    }
   ],
   "source": [
    "print(df.isnull().sum())"
   ]
  },
  {
   "cell_type": "markdown",
   "metadata": {},
   "source": [
    "#### Get all the numerical/Categorial dtype column"
   ]
  },
  {
   "cell_type": "code",
   "execution_count": 10,
   "metadata": {},
   "outputs": [
    {
     "name": "stdout",
     "output_type": "stream",
     "text": [
      "Categorical variable: Index([' education', ' self_employed', ' loan_status'], dtype='object')\n",
      "Numerical variable Index(['loan_id', ' no_of_dependents', ' income_annum', ' loan_amount',\n",
      "       ' loan_term', ' cibil_score', ' residential_assets_value',\n",
      "       ' commercial_assets_value', ' luxury_assets_value',\n",
      "       ' bank_asset_value'],\n",
      "      dtype='object')\n"
     ]
    }
   ],
   "source": [
    "categorical=df.select_dtypes(include=['object']).columns\n",
    "numerical=df.select_dtypes(exclude=['object']).columns\n",
    "print(\"Categorical variable:\",categorical)\n",
    "print(\"Numerical variable\",numerical)"
   ]
  },
  {
   "cell_type": "markdown",
   "metadata": {},
   "source": [
    "### Find all the unique value in data"
   ]
  },
  {
   "cell_type": "code",
   "execution_count": 14,
   "metadata": {},
   "outputs": [
    {
     "name": "stdout",
     "output_type": "stream",
     "text": [
      " education\n",
      "\n",
      "\n",
      "[' Graduate' ' Not Graduate']\n",
      " self_employed\n",
      "\n",
      "\n",
      "[' No' ' Yes']\n",
      " loan_status\n",
      "\n",
      "\n",
      "[' Approved' ' Rejected']\n"
     ]
    }
   ],
   "source": [
    "for i in categorical:\n",
    "    print(i)\n",
    "    print(\"\\n\")\n",
    "    print(df[i].unique())"
   ]
  },
  {
   "cell_type": "code",
   "execution_count": null,
   "metadata": {},
   "outputs": [],
   "source": []
  }
 ],
 "metadata": {
  "kernelspec": {
   "display_name": "Python 3",
   "language": "python",
   "name": "python3"
  },
  "language_info": {
   "codemirror_mode": {
    "name": "ipython",
    "version": 3
   },
   "file_extension": ".py",
   "mimetype": "text/x-python",
   "name": "python",
   "nbconvert_exporter": "python",
   "pygments_lexer": "ipython3",
   "version": "3.10.10"
  },
  "orig_nbformat": 4
 },
 "nbformat": 4,
 "nbformat_minor": 2
}
